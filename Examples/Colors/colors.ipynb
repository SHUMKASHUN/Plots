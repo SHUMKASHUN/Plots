{
 "cells": [
  {
   "cell_type": "code",
   "execution_count": 25,
   "metadata": {},
   "outputs": [],
   "source": [
    "# Typically I will use following colors\n",
    "red_light = \"#E7A991\"\n",
    "red_dark = \"#E18D6D\"\n",
    "\n",
    "yellow_light = \"#F0E6AD\"\n",
    "yellow_dark = \"#EBDE93\"\n",
    "\n",
    "blue_light = \"#A1BEE2\"\n",
    "blue_dark = \"#82A8D9\"\n",
    "\n",
    "green_light = \"#CED876\"\n",
    "green_dark = \"#BECC51\"\n",
    "\n",
    "cyan_light  = \"#88CAB4\"\n",
    "cyan_dark = \"#67B99B\"\n",
    "\n",
    "gray_light = \"#f1f1f1\"\n",
    "gray_dark = \"#a9a9a9\"\n",
    "light = [red_light, yellow_light, blue_light, green_light, cyan_light]\n",
    "dark = [red_dark, yellow_dark, blue_dark, green_dark, cyan_dark]"
   ]
  },
  {
   "cell_type": "code",
   "execution_count": 32,
   "metadata": {},
   "outputs": [
    {
     "data": {
      "text/plain": [
       "[<matplotlib.axis.XTick at 0x7f8ac03a0ac0>,\n",
       " <matplotlib.axis.XTick at 0x7f8ac03b0f10>,\n",
       " <matplotlib.axis.XTick at 0x7f8ae09c8af0>,\n",
       " <matplotlib.axis.XTick at 0x7f8ae09c86a0>,\n",
       " <matplotlib.axis.XTick at 0x7f8a9012ad60>]"
      ]
     },
     "execution_count": 32,
     "metadata": {},
     "output_type": "execute_result"
    },
    {
     "data": {
      "image/png": "[encoded data removed]",
      "text/plain": [
       "<Figure size 432x288 with 1 Axes>"
      ]
     },
     "metadata": {
      "needs_background": "light"
     },
     "output_type": "display_data"
    }
   ],
   "source": [
    "import matplotlib.pyplot as plt\n",
    "import numpy as np\n",
    "\n",
    "labels = [\"light\", \"dark\"]\n",
    "x = np.arange(5)\n",
    "width = 0.3\n",
    "\n",
    "fig, ax = plt.subplots()\n",
    "rect1 = ax.bar(x - width*0.5, [1] * 5, width, label = \"light\", color = light)\n",
    "rect3 = ax.bar(x + width*0.5, [2] * 5, width, label = \"dark\", color = dark)\n",
    "\n",
    "ax.set_xlabel(\"Colors\", fontsize = 14)\n",
    "ax.set_yticks([])\n",
    "\n",
    "ax.spines[\"top\"].set_visible(False)\n",
    "ax.spines[\"right\"].set_visible(False)\n",
    "ax.spines[\"left\"].set_visible(False)\n",
    "ax.spines[\"bottom\"].set(position=('outward', 10), linewidth=1.5)\n",
    "ax.set_xticks([0, 1, 2, 3, 4], [\"red\", \"yellow\", \"blue\", \"green\", \"cyan\"])"
   ]
  }
 ],
 "metadata": {
  "kernelspec": {
   "display_name": "base",
   "language": "python",
   "name": "python3"
  },
  "language_info": {
   "codemirror_mode": {
    "name": "ipython",
    "version": 3
   },
   "file_extension": ".py",
   "mimetype": "text/x-python",
   "name": "python",
   "nbconvert_exporter": "python",
   "pygments_lexer": "ipython3",
   "version": "3.9.7"
  }
 },
 "nbformat": 4,
 "nbformat_minor": 2
}
